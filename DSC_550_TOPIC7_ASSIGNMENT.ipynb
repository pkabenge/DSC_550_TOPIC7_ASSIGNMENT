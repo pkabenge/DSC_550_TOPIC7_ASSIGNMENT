{
 "cells": [
  {
   "cell_type": "code",
   "execution_count": null,
   "id": "37d06ee9",
   "metadata": {},
   "outputs": [],
   "source": [
    "##  RNN Implementation using NumPy"
   ]
  },
  {
   "cell_type": "code",
   "execution_count": 2,
   "id": "1b8ff7bc",
   "metadata": {},
   "outputs": [
    {
     "name": "stdout",
     "output_type": "stream",
     "text": [
      "unique characters :  27\n",
      "txt_data_size :  81\n"
     ]
    }
   ],
   "source": [
    "import numpy as np\n",
    "# load text data\n",
    "\n",
    "txt_data = \"abcdefghijklmnopqrstuvwxyz abcdefghijklmnopqrstuvwxyz abcdefghijklmnopqrstuvwxyz \" # input data\n",
    "# txt_data = open('input.txt', 'r').read() # test external files\n",
    "\n",
    "chars = list(set(txt_data)) # split and remove duplicate characters. convert to list.\n",
    "\n",
    "num_chars = len(chars) # the number of unique characters\n",
    "txt_data_size = len(txt_data)\n",
    "\n",
    "print(\"unique characters : \", num_chars) # You can see the number of unique characters in your input data.\n",
    "print(\"txt_data_size : \", txt_data_size)"
   ]
  },
  {
   "cell_type": "code",
   "execution_count": null,
   "id": "6247ede9",
   "metadata": {},
   "outputs": [],
   "source": [
    "# ONE HOT ENCODING"
   ]
  },
  {
   "cell_type": "code",
   "execution_count": 4,
   "id": "61c7a555",
   "metadata": {},
   "outputs": [
    {
     "name": "stdout",
     "output_type": "stream",
     "text": [
      "{'a': 0, 'v': 1, 'c': 2, ' ': 3, 'd': 4, 'b': 5, 'g': 6, 'z': 7, 's': 8, 'r': 9, 'x': 10, 'n': 11, 'f': 12, 't': 13, 'm': 14, 'w': 15, 'q': 16, 'l': 17, 'p': 18, 'y': 19, 'u': 20, 'i': 21, 'o': 22, 'k': 23, 'h': 24, 'j': 25, 'e': 26}\n",
      "----------------------------------------------------\n",
      "{0: 'a', 1: 'v', 2: 'c', 3: ' ', 4: 'd', 5: 'b', 6: 'g', 7: 'z', 8: 's', 9: 'r', 10: 'x', 11: 'n', 12: 'f', 13: 't', 14: 'm', 15: 'w', 16: 'q', 17: 'l', 18: 'p', 19: 'y', 20: 'u', 21: 'i', 22: 'o', 23: 'k', 24: 'h', 25: 'j', 26: 'e'}\n",
      "----------------------------------------------------\n",
      "[0, 5, 2, 4, 26, 12, 6, 24, 21, 25, 23, 17, 14, 11, 22, 18, 16, 9, 8, 13, 20, 1, 15, 10, 19, 7, 3, 0, 5, 2, 4, 26, 12, 6, 24, 21, 25, 23, 17, 14, 11, 22, 18, 16, 9, 8, 13, 20, 1, 15, 10, 19, 7, 3, 0, 5, 2, 4, 26, 12, 6, 24, 21, 25, 23, 17, 14, 11, 22, 18, 16, 9, 8, 13, 20, 1, 15, 10, 19, 7, 3]\n",
      "----------------------------------------------------\n",
      "data length :  81\n"
     ]
    }
   ],
   "source": [
    "# one hot encode\n",
    "char_to_int = dict((c, i) for i, c in enumerate(chars)) # \"enumerate\" retruns index and value. Convert it to dictionary\n",
    "int_to_char = dict((i, c) for i, c in enumerate(chars))\n",
    "print(char_to_int)\n",
    "print(\"----------------------------------------------------\")\n",
    "print(int_to_char)\n",
    "print(\"----------------------------------------------------\")\n",
    "# integer encode input data\n",
    "integer_encoded = [char_to_int[i] for i in txt_data] # \"integer_encoded\" is a list which has a sequence converted from an original data to integers.\n",
    "print(integer_encoded)\n",
    "print(\"----------------------------------------------------\")\n",
    "print(\"data length : \", len(integer_encoded))"
   ]
  },
  {
   "cell_type": "code",
   "execution_count": null,
   "id": "dacc2d21",
   "metadata": {},
   "outputs": [],
   "source": [
    "###  Initialization"
   ]
  },
  {
   "cell_type": "code",
   "execution_count": 5,
   "id": "d5d87386",
   "metadata": {},
   "outputs": [],
   "source": [
    "\n",
    "# hyperparameters\n",
    "\n",
    "iteration = 5000\n",
    "sequence_length = 10\n",
    "batch_size = round((txt_data_size /sequence_length)+0.5) # = math.ceil\n",
    "hidden_size = 100  # size of hidden layer of neurons.  \n",
    "learning_rate = 1e-1\n",
    "\n",
    "\n",
    "# model parameters\n",
    "\n",
    "W_xh = np.random.randn(hidden_size, num_chars)*0.01     # weight input -> hidden. \n",
    "W_hh = np.random.randn(hidden_size, hidden_size)*0.01   # weight hidden -> hidden\n",
    "W_hy = np.random.randn(num_chars, hidden_size)*0.01     # weight hidden -> output\n",
    "\n",
    "b_h = np.zeros((hidden_size, 1)) # hidden bias\n",
    "b_y = np.zeros((num_chars, 1)) # output bias\n",
    "\n",
    "h_prev = np.zeros((hidden_size,1)) # h_(t-1)"
   ]
  },
  {
   "cell_type": "code",
   "execution_count": null,
   "id": "423975d5",
   "metadata": {},
   "outputs": [],
   "source": [
    "## FORWARD PROPAGATION"
   ]
  },
  {
   "cell_type": "code",
   "execution_count": 6,
   "id": "fd28f5b5",
   "metadata": {},
   "outputs": [],
   "source": [
    "def forwardprop(inputs, targets, h_prev):\n",
    "        \n",
    "    # Since the RNN receives the sequence, the weights are not updated during one sequence.\n",
    "    xs, hs, ys, ps = {}, {}, {}, {} # dictionary\n",
    "    hs[-1] = np.copy(h_prev) # Copy previous hidden state vector to -1 key value.\n",
    "    loss = 0 # loss initialization\n",
    "    \n",
    "    for t in range(len(inputs)): # t is a \"time step\" and is used as a key(dic).  \n",
    "        \n",
    "        xs[t] = np.zeros((num_chars,1)) \n",
    "        xs[t][inputs[t]] = 1\n",
    "        hs[t] = np.tanh(np.dot(W_xh, xs[t]) + np.dot(W_hh, hs[t-1]) + b_h) # hidden state. \n",
    "        ys[t] = np.dot(W_hy, hs[t]) + b_y # unnormalized log probabilities for next chars\n",
    "        ps[t] = np.exp(ys[t]) / np.sum(np.exp(ys[t])) # probabilities for next chars. \n",
    "        # Softmax. -> The sum of probabilities is 1 even without the exp() function, but all of the elements are positive through the exp() function.\n",
    " \n",
    "        loss += -np.log(ps[t][targets[t],0]) # softmax (cross-entropy loss). Efficient and simple code\n",
    "\n",
    "#         y_class = np.zeros((num_chars, 1)) \n",
    "#         y_class[targets[t]] =1\n",
    "#         loss += np.sum(y_class*(-np.log(ps[t]))) # softmax (cross-entropy loss)        \n",
    "\n",
    "    return loss, ps, hs, xs "
   ]
  },
  {
   "cell_type": "code",
   "execution_count": null,
   "id": "3e2dc5d3",
   "metadata": {},
   "outputs": [],
   "source": [
    "## BACKWARD PROPAGATION"
   ]
  },
  {
   "cell_type": "code",
   "execution_count": 8,
   "id": "652b59ab",
   "metadata": {},
   "outputs": [],
   "source": [
    "def backprop(ps, inputs, hs, xs):\n",
    "\n",
    "    dWxh, dWhh, dWhy = np.zeros_like(W_xh), np.zeros_like(W_hh), np.zeros_like(W_hy) # make all zero matrices.\n",
    "    dbh, dby = np.zeros_like(b_h), np.zeros_like(b_y)\n",
    "    dhnext = np.zeros_like(hs[0]) # (hidden_size,1) \n",
    "\n",
    "    # reversed\n",
    "    for t in reversed(range(len(inputs))):\n",
    "        dy = np.copy(ps[t]) # shape (num_chars,1).  \"dy\" means \"dloss/dy\"\n",
    "        dy[targets[t]] -= 1 # backprop into y. After taking the soft max in the input vector, subtract 1 from the value of the element corresponding to the correct label.\n",
    "        dWhy += np.dot(dy, hs[t].T)\n",
    "        dby += dy \n",
    "        dh = np.dot(W_hy.T, dy) + dhnext # backprop into h. \n",
    "        dhraw = (1 - hs[t] * hs[t]) * dh # backprop through tanh nonlinearity #tanh'(x) = 1-tanh^2(x)\n",
    "        dbh += dhraw\n",
    "        dWxh += np.dot(dhraw, xs[t].T)\n",
    "        dWhh += np.dot(dhraw, hs[t-1].T)\n",
    "        dhnext = np.dot(W_hh.T, dhraw)\n",
    "    for dparam in [dWxh, dWhh, dWhy, dbh, dby]: \n",
    "        np.clip(dparam, -5, 5, out=dparam) # clip to mitigate exploding gradients.  \n",
    "    \n",
    "    return dWxh, dWhh, dWhy, dbh, dby"
   ]
  },
  {
   "cell_type": "code",
   "execution_count": null,
   "id": "aa74b7c9",
   "metadata": {},
   "outputs": [],
   "source": [
    "## TRAINING"
   ]
  },
  {
   "cell_type": "code",
   "execution_count": 9,
   "id": "db65f07a",
   "metadata": {},
   "outputs": [
    {
     "name": "stdout",
     "output_type": "stream",
     "text": [
      "iter 0, loss: 3.519988\n",
      "iter 100, loss: 0.018817\n",
      "iter 200, loss: 0.007711\n",
      "iter 300, loss: 0.004715\n",
      "iter 400, loss: 0.003362\n",
      "iter 500, loss: 0.002601\n",
      "iter 600, loss: 0.002117\n",
      "iter 700, loss: 0.001782\n",
      "iter 800, loss: 0.001537\n",
      "iter 900, loss: 0.001349\n",
      "iter 1000, loss: 0.001201\n",
      "iter 1100, loss: 0.001081\n",
      "iter 1200, loss: 0.000982\n",
      "iter 1300, loss: 0.000899\n",
      "iter 1400, loss: 0.000829\n",
      "iter 1500, loss: 0.000768\n",
      "iter 1600, loss: 0.000716\n",
      "iter 1700, loss: 0.000670\n",
      "iter 1800, loss: 0.000629\n",
      "iter 1900, loss: 0.000593\n",
      "iter 2000, loss: 0.000560\n",
      "iter 2100, loss: 0.000531\n",
      "iter 2200, loss: 0.000505\n",
      "iter 2300, loss: 0.000481\n",
      "iter 2400, loss: 0.000459\n",
      "iter 2500, loss: 0.000439\n",
      "iter 2600, loss: 0.000421\n",
      "iter 2700, loss: 0.000404\n",
      "iter 2800, loss: 0.000388\n",
      "iter 2900, loss: 0.000374\n",
      "iter 3000, loss: 0.000361\n",
      "iter 3100, loss: 0.000348\n",
      "iter 3200, loss: 0.000337\n",
      "iter 3300, loss: 0.000326\n",
      "iter 3400, loss: 0.000315\n",
      "iter 3500, loss: 0.000306\n",
      "iter 3600, loss: 0.000297\n",
      "iter 3700, loss: 0.000288\n",
      "iter 3800, loss: 0.000280\n",
      "iter 3900, loss: 0.000272\n",
      "iter 4000, loss: 0.000265\n",
      "iter 4100, loss: 0.000258\n",
      "iter 4200, loss: 0.000252\n",
      "iter 4300, loss: 0.000246\n",
      "iter 4400, loss: 0.000240\n",
      "iter 4500, loss: 0.000234\n",
      "iter 4600, loss: 0.000229\n",
      "iter 4700, loss: 0.000223\n",
      "iter 4800, loss: 0.000218\n",
      "iter 4900, loss: 0.000214\n"
     ]
    }
   ],
   "source": [
    "data_pointer = 0\n",
    "\n",
    "# memory variables for Adagrad\n",
    "mWxh, mWhh, mWhy = np.zeros_like(W_xh), np.zeros_like(W_hh), np.zeros_like(W_hy)\n",
    "mbh, mby = np.zeros_like(b_h), np.zeros_like(b_y) \n",
    "\n",
    "\n",
    "for i in range(iteration):\n",
    "    h_prev = np.zeros((hidden_size,1)) # reset RNN memory\n",
    "    data_pointer = 0 # go from start of data\n",
    "    \n",
    "    for b in range(batch_size):\n",
    "        \n",
    "        inputs = [char_to_int[ch] for ch in txt_data[data_pointer:data_pointer+sequence_length]]\n",
    "        targets = [char_to_int[ch] for ch in txt_data[data_pointer+1:data_pointer+sequence_length+1]] # t+1        \n",
    "            \n",
    "        if (data_pointer+sequence_length+1 >= len(txt_data) and b == batch_size-1): # processing of the last part of the input data. \n",
    "#             targets.append(char_to_int[txt_data[0]])   # When the data doesn't fit, add the first char to the back.\n",
    "            targets.append(char_to_int[\" \"])   # When the data doesn't fit, add space(\" \") to the back.\n",
    "\n",
    "\n",
    "        # forward\n",
    "        loss, ps, hs, xs = forwardprop(inputs, targets, h_prev)\n",
    "#         print(loss)\n",
    "    \n",
    "        # backward\n",
    "        dWxh, dWhh, dWhy, dbh, dby = backprop(ps, inputs, hs, xs) \n",
    "        \n",
    "        \n",
    "    # perform parameter update with Adagrad\n",
    "        for param, dparam, mem in zip([W_xh, W_hh, W_hy, b_h, b_y], \n",
    "                                    [dWxh, dWhh, dWhy, dbh, dby], \n",
    "                                    [mWxh, mWhh, mWhy, mbh, mby]):\n",
    "            mem += dparam * dparam # elementwise\n",
    "            param += -learning_rate * dparam / np.sqrt(mem + 1e-8) # adagrad update      \n",
    "    \n",
    "        data_pointer += sequence_length # move data pointer\n",
    "        \n",
    "    if i % 100 == 0:\n",
    "        print ('iter %d, loss: %f' % (i, loss)) # print progress"
   ]
  },
  {
   "cell_type": "code",
   "execution_count": null,
   "id": "79454c99",
   "metadata": {},
   "outputs": [],
   "source": [
    "## PREDICTION"
   ]
  },
  {
   "cell_type": "code",
   "execution_count": 10,
   "id": "48dfc979",
   "metadata": {},
   "outputs": [],
   "source": [
    "def predict(test_char, length):\n",
    "    x = np.zeros((num_chars, 1)) \n",
    "    x[char_to_int[test_char]] = 1\n",
    "    ixes = []\n",
    "    h = np.zeros((hidden_size,1))\n",
    "\n",
    "    for t in range(length):\n",
    "        h = np.tanh(np.dot(W_xh, x) + np.dot(W_hh, h) + b_h) \n",
    "        y = np.dot(W_hy, h) + b_y\n",
    "        p = np.exp(y) / np.sum(np.exp(y)) \n",
    "        ix = np.random.choice(range(num_chars), p=p.ravel()) # ravel -> rank0\n",
    "        # \"ix\" is a list of indexes selected according to the soft max probability.\n",
    "        x = np.zeros((num_chars, 1)) # init\n",
    "        x[ix] = 1 \n",
    "        ixes.append(ix) # list\n",
    "    txt = ''.join(int_to_char[i] for i in ixes)\n",
    "    print ('----\\n %s \\n----' % (txt, ))"
   ]
  },
  {
   "cell_type": "code",
   "execution_count": 11,
   "id": "16a74512",
   "metadata": {},
   "outputs": [
    {
     "name": "stdout",
     "output_type": "stream",
     "text": [
      "----\n",
      " bcdefghijklmnopqrstuvwxyz abcd \n",
      "----\n"
     ]
    }
   ],
   "source": [
    "predict('a',30) # (char, len of output)"
   ]
  },
  {
   "cell_type": "code",
   "execution_count": 12,
   "id": "01a4fdf5",
   "metadata": {},
   "outputs": [
    {
     "name": "stdout",
     "output_type": "stream",
     "text": [
      "----\n",
      " cdefgnipqhznopqrstuvwxyz abcde \n",
      "----\n"
     ]
    }
   ],
   "source": [
    "predict('b',30)"
   ]
  },
  {
   "cell_type": "code",
   "execution_count": null,
   "id": "1a1928b6",
   "metadata": {},
   "outputs": [],
   "source": []
  }
 ],
 "metadata": {
  "kernelspec": {
   "display_name": "Python 3",
   "language": "python",
   "name": "python3"
  },
  "language_info": {
   "codemirror_mode": {
    "name": "ipython",
    "version": 3
   },
   "file_extension": ".py",
   "mimetype": "text/x-python",
   "name": "python",
   "nbconvert_exporter": "python",
   "pygments_lexer": "ipython3",
   "version": "3.8.8"
  }
 },
 "nbformat": 4,
 "nbformat_minor": 5
}
